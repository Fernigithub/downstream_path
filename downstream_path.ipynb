{
 "cells": [
  {
   "cell_type": "code",
   "execution_count": 4,
   "metadata": {},
   "outputs": [],
   "source": [
    "import geopandas as gpd\n",
    "from shapely.geometry import LineString\n",
    "import rasterio\n",
    "import richdem as rd\n",
    "import numpy as np\n",
    "\n",
    "# trace_downstream_path\n",
    "\n",
    "def read_dem(filename):\n",
    "    \"\"\"Read a DEM file and return the dataset and elevation array.\"\"\"\n",
    "    dataset = rasterio.open(filename)\n",
    "    dem = dataset.read(1)\n",
    "    dem = dem.astype('float64')  # Convert to float64\n",
    "    return dataset, dem\n",
    "\n",
    "def rowcol_to_latlon(dataset, row, col):\n",
    "    \"\"\"Convert row and column indices back to latitude and longitude.\"\"\"\n",
    "    lon, lat = dataset.xy(row, col)  # Get the geographical coordinates\n",
    "    return lon, lat\n",
    "\n",
    "def create_line_from_path(dataset, path):\n",
    "    \"\"\"Convert a path of row/col indices to a LineString geometry.\"\"\"\n",
    "    # Convert each point in the path to geographic coordinates\n",
    "    coords = [rowcol_to_latlon(dataset, r, c) for r, c in path]\n",
    "    # Create a LineString from the coordinates\n",
    "    line = LineString(coords)\n",
    "    return line\n",
    "\n",
    "def latlon_to_rowcol(dataset, lat, lon):\n",
    "    \"\"\"Convert latitude and longitude to row and column indices.\"\"\"\n",
    "    col, row = dataset.index(lon, lat)  # Get the column and row indices\n",
    "    return col, row\n",
    "\n",
    "def calculate_flow_direction(dem_array,geot):\n",
    "    \"\"\"Calculate flow direction from a DEM array using RichDEM.\"\"\"\n",
    "    rd_array = rd.rdarray(dem_array, geotransform=geot, no_data=-9999)\n",
    "\n",
    "    # aply FillDepressions twice to fill sinks\n",
    "    rd.FillDepressions(rd_array, epsilon=True , topology='D8',in_place=True)\n",
    "    rd.FillDepressions(rd_array, epsilon=True , topology='D8',in_place=True)\n",
    "\n",
    "    flow_proportions = rd.FlowProportions(dem=rd_array, method='D8')\n",
    "    flow_direction = np.argmax(flow_proportions, axis=2)\n",
    "    return flow_direction\n",
    "\n",
    "def calculate_flow_accumulation(dem_array,geot):\n",
    "    \"\"\"Calculate flow direction from a DEM array using RichDEM.\"\"\"\n",
    "    rd_array = rd.rdarray(dem_array, geotransform=geot, no_data=-9999)\n",
    "    rd.FillDepressions(rd_array, in_place=True)\n",
    "    flow_direction = rd.FlowAccumulation(dem=rd_array, method='D8')\n",
    "    return flow_direction\n",
    "\n",
    "def trace_downstream_path(flow_direction, start_row, start_col, maxnodes=4000):\n",
    "    \"\"\"Trace the downstream path from a starting point.\"\"\"\n",
    "    nrows, ncols = flow_direction.shape\n",
    "    path = [(start_row, start_col)]\n",
    "    r, c = start_row, start_col\n",
    "\n",
    "    flow_direction_offsets = {\n",
    "        2: (-1, 0),  # N\n",
    "        3: (-1, 1),  # NE\n",
    "        4: (0, 1),   # E\n",
    "        5: (1, 1),   # SE\n",
    "        6: (1, 0),   # S\n",
    "        7: (1, -1),  # SW\n",
    "        8: (0, -1),  # W\n",
    "        1: (-1, -1),  # NW\n",
    "        0: (0, 0)  # N\n",
    "    }\n",
    "\n",
    "    visited = set()\n",
    "\n",
    "    while True:\n",
    "        if len(path) >= maxnodes:  # Stop if we reach x nodes\n",
    "            break   \n",
    "\n",
    "        d = flow_direction[r, c]\n",
    "        if d == -1:  # Check for edge of map\n",
    "            break\n",
    "\n",
    "        dr, dc = flow_direction_offsets[d]\n",
    "        r, c = r + dr, c + dc\n",
    "\n",
    "        if r < 0 or r >= nrows or c < 0 or c >= ncols:\n",
    "            break  # Stop if we move outside the grid\n",
    "\n",
    "        if (r, c) in visited:  # Check for loop\n",
    "            r += 2  # Move 2 cell to the south\n",
    "            if r < 0:  # Check if we moved outside the grid\n",
    "                break\n",
    "            continue\n",
    "\n",
    "        visited.add((r, c))\n",
    "        path.append((r, c))\n",
    "\n",
    "    return path\n"
   ]
  },
  {
   "cell_type": "code",
   "execution_count": 5,
   "metadata": {},
   "outputs": [
    {
     "name": "stdout",
     "output_type": "stream",
     "text": [
      "Warning! No geotransform defined. Choosing a standard one! (Top left cell's top let corner at <0,0>; cells are 1x1.)\n",
      "Warning! No geotransform defined. Choosing a standard one! (Top left cell's top let corner at <0,0>; cells are 1x1.)\n"
     ]
    },
    {
     "name": "stderr",
     "output_type": "stream",
     "text": [
      "\n",
      "A Priority-Flood+Epsilon\u001b[39m\n",
      "C Barnes, R., Lehman, C., Mulla, D., 2014. Priority-flood: An optimal depression-filling and watershed-labeling algorithm for digital elevation models. Computers & Geosciences 62, 117–127. doi:10.1016/j.cageo.2013.04.024\u001b[39m\n",
      "\n",
      "c topology = D8\u001b[39m\n",
      "p Setting up boolean flood array matrix...\u001b[39m\n",
      "p Adding cells to the priority queue...\u001b[39m\n",
      "p Performing Priority-Flood+Epsilon...\u001b[39m\n",
      "\u001b[2Kt succeeded in 6.22732 s\u001b[39m                      ] (42% - 8.6s - 1 threads))\n",
      "m Cells processed = 74929120\u001b[39m\n",
      "m Cells in pits = 23471207\u001b[39m\n",
      "\n",
      "A Priority-Flood+Epsilon\u001b[39m\n",
      "C Barnes, R., Lehman, C., Mulla, D., 2014. Priority-flood: An optimal depression-filling and watershed-labeling algorithm for digital elevation models. Computers & Geosciences 62, 117–127. doi:10.1016/j.cageo.2013.04.024\u001b[39m\n",
      "\n",
      "c topology = D8\u001b[39m\n",
      "p Setting up boolean flood array matrix...\u001b[39m\n",
      "p Adding cells to the priority queue...\u001b[39m\n",
      "p Performing Priority-Flood+Epsilon...\u001b[39m\n",
      "\u001b[2K[=======                                           ] (14% - 2.0s - 1 threads)"
     ]
    },
    {
     "name": "stdout",
     "output_type": "stream",
     "text": [
      "Warning! No geotransform defined. Choosing a standard one! (Top left cell's top let corner at <0,0>; cells are 1x1.)\n",
      "Warning! No geotransform defined. Choosing a standard one! (Top left cell's top let corner at <0,0>; cells are 1x1.)\n"
     ]
    },
    {
     "name": "stderr",
     "output_type": "stream",
     "text": [
      "\u001b[2Kt succeeded in 6.14778 s\u001b[39m                      ] (42% - 8.5s - 1 threads))\n",
      "m Cells processed = 74929120\u001b[39m\n",
      "m Cells in pits = 23471207\u001b[39m\n",
      "\u001b[91mW \u001b[91mW In assigning negligible gradients to depressions, some depressions rose above the surrounding cells. This implies that a larger storage type should be used. The problem occured for 20799406 of 74929120.\u001b[39m\u001b[39m\n",
      "\n",
      "A O'Callaghan (1984)/Marks (1984) D8/D4 Flow Accumulation\u001b[39m\n",
      "C O'Callaghan, J.F., Mark, D.M., 1984. The Extraction of Drainage Networks from Digital Elevation Data. Computer vision, graphics, and image processing 28, 323--344.\u001b[39m\n",
      "\n",
      "c topology = D8\u001b[39m\n",
      "\u001b[2K[=====================                             ] (42% - 1.0s - 1 threads)"
     ]
    },
    {
     "name": "stdout",
     "output_type": "stream",
     "text": [
      "Downstream path saved to downstream_path.geojson\n"
     ]
    }
   ],
   "source": [
    "\n",
    "\n",
    "dem_filename = \"dem_1k_90m_4326.tif\"\n",
    "\n",
    "# latitude = -25.037557# Example latitude\n",
    "# longitude = -53.579286# Example longitude\n",
    "\n",
    "latitude = -24.9020941\n",
    "longitude = -53.7262523\n",
    "\n",
    "MAXNODES = 4000 # Maximum number of nodes in the downstream path\n",
    "\n",
    "dataset, dem = read_dem(dem_filename)\n",
    "\n",
    "start_row, start_col = latlon_to_rowcol(dataset, latitude, longitude)\n",
    "flow_direction = calculate_flow_direction(dem , dataset.transform)\n",
    "\n",
    "# save as TIFF\n",
    "\n",
    "# flow_direction = flow_direction.astype('int32')\n",
    "# with rasterio.open('flow_direction.tif', 'w', driver='GTiff', height=flow_direction.shape[0],\n",
    "#                    width=flow_direction.shape[1], count=1, dtype='int32',\n",
    "#                    crs=dataset.crs, transform=dataset.transform) as dst:\n",
    "#     dst.write(flow_direction, 1)\n",
    "\n",
    "# calculate flow accumulation\n",
    "\n",
    "# flow_accumulation = calculate_flow_accumulation(dem , dataset.transform)\n",
    "# with rasterio.open('flow_acumulation.tif', 'w', driver='GTiff', height=flow_accumulation.shape[0],\n",
    "#                    width=flow_accumulation.shape[1], count=1, dtype='int32',\n",
    "#                    crs=dataset.crs, transform=dataset.transform) as dst:\n",
    "#     dst.write(flow_accumulation, 1)\n",
    "\n",
    "\n",
    "downstream_path = trace_downstream_path(flow_direction, start_row, start_col, MAXNODES)\n",
    "\n",
    "line = create_line_from_path(dataset, downstream_path)\n",
    "gdf = gpd.GeoDataFrame([{'geometry': line}], crs=dataset.crs)\n",
    "\n",
    "# Optionally, save the GeoDataFrame to a file\n",
    "output_filename = \"downstream_path.geojson\"\n",
    "gdf.to_file(output_filename, driver='GeoJSON')\n",
    "\n",
    "print(f\"Downstream path saved to {output_filename}\")\n"
   ]
  },
  {
   "cell_type": "code",
   "execution_count": 6,
   "metadata": {},
   "outputs": [
    {
     "data": {
      "text/plain": [
       "<Axes: >"
      ]
     },
     "execution_count": 6,
     "metadata": {},
     "output_type": "execute_result"
    },
    {
     "data": {
      "image/png": "[encoded data removed]",
      "text/plain": [
       "<Figure size 640x480 with 1 Axes>"
      ]
     },
     "metadata": {},
     "output_type": "display_data"
    }
   ],
   "source": [
    "gdf.plot()"
   ]
  },
  {
   "cell_type": "code",
   "execution_count": null,
   "metadata": {},
   "outputs": [],
   "source": []
  }
 ],
 "metadata": {
  "kernelspec": {
   "display_name": "Python 3",
   "language": "python",
   "name": "python3"
  },
  "language_info": {
   "codemirror_mode": {
    "name": "ipython",
    "version": 3
   },
   "file_extension": ".py",
   "mimetype": "text/x-python",
   "name": "python",
   "nbconvert_exporter": "python",
   "pygments_lexer": "ipython3",
   "version": "3.8.18"
  }
 },
 "nbformat": 4,
 "nbformat_minor": 2
}
